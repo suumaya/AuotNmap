{
 "cells": [
  {
   "cell_type": "code",
   "execution_count": 2,
   "metadata": {},
   "outputs": [],
   "source": [
    "import sys\n",
    "import csv\n",
    "import pandas as pd\n",
    "import numpy as np\n",
    "import matplotlib.pyplot as plt\n",
    "import seaborn as sb\n",
    "# maby used later:\n",
    "import os\n",
    "import requests\n",
    "import wptools\n",
    "from PIL import Image\n",
    "from io import BytesIO\n",
    "\n",
    "if len(sys.argv) != 2:\n",
    "    sys.stderr.write(\"Usage:./newAuto.sh filename.csv\\n\".format(sys.argv[0]))\n",
    "\n",
    "df = pd.read_csv(sys.argv[1:])"
   ]
  }
 ],
 "metadata": {
  "kernelspec": {
   "display_name": "Python 3",
   "language": "python",
   "name": "python3"
  },
  "language_info": {
   "codemirror_mode": {
    "name": "ipython",
    "version": 3
   },
   "file_extension": ".py",
   "mimetype": "text/x-python",
   "name": "python",
   "nbconvert_exporter": "python",
   "pygments_lexer": "ipython3",
   "version": "3.8.3"
  }
 },
 "nbformat": 4,
 "nbformat_minor": 4
}
